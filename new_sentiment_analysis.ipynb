{
 "cells": [
  {
   "cell_type": "code",
   "execution_count": null,
   "id": "afe9b9f5",
   "metadata": {},
   "outputs": [],
   "source": [
    "!pip install flask\n",
    "!pip install nltk\n",
    "!pip install urllib3\n",
    "!pip install bs4\n",
    "!pip install plotly\n",
    "# import warnings\n",
    "# warnings.filterwarnings(\"ignore\", category=DeprecationWarning)\n",
    "def warn(*args, **kwargs):\n",
    "    pass\n",
    "import warnings\n",
    "warnings.warn = warn"
   ]
  },
  {
   "cell_type": "code",
   "execution_count": null,
   "id": "521657fd",
   "metadata": {},
   "outputs": [],
   "source": [
    "# Import libraries\n",
    "from urllib.request import urlopen, Request\n",
    "from bs4 import BeautifulSoup\n",
    "import pandas as pd\n",
    "import plotly.express as px\n",
    "# NLTK VADER for sentiment analysis\n",
    "import nltk\n",
    "nltk.downloader.download('vader_lexicon')\n",
    "from nltk.sentiment.vader import SentimentIntensityAnalyzer\n",
    "from nltk.sentiment.vader import SentimentIntensityAnalyzer\n",
    "\n",
    "# for extracting data from finviz\n",
    "finviz_url = 'https://finviz.com/quote.ashx?t='"
   ]
  },
  {
   "cell_type": "code",
   "execution_count": null,
   "id": "6ff8428e",
   "metadata": {},
   "outputs": [],
   "source": [
    "def get_news(tickers):\n",
    "    news_tables = {}  # Initialize an empty dictionary to store news tables\n",
    "\n",
    "    for ticker in tickers:\n",
    "        url = finviz_url + ticker\n",
    "        req = Request(url=url, headers={'User-Agent': 'Mozilla/5.0 (Windows NT 6.1; WOW64; rv:20.0) Gecko/20100101 Firefox/20.0'})\n",
    "        response = urlopen(req)\n",
    "        html = BeautifulSoup(response, features=\"html.parser\")\n",
    "        news_table = html.find(id='news-table')\n",
    "        news_tables[ticker] = news_table\n",
    "\n",
    "    return news_tables\n",
    "\n",
    "tickers = ['HLT', 'MAR','CCL','WMT','WH','AMZN','UAL', 'DAL', 'CAKE']\n",
    "news_tables = get_news(tickers)\n",
    "\n",
    "# Access the news table for each ticker\n",
    "for ticker, table in news_tables.items():\n",
    "    print(f\"Ticker: {ticker}\")\n",
    "    print(table)\n",
    "    print(\"---------------------------------------\")\n"
   ]
  },
  {
   "cell_type": "code",
   "execution_count": null,
   "id": "08eb8966",
   "metadata": {},
   "outputs": [],
   "source": [
    "def parse_news(news_tables):\n",
    "    parsed_news = []\n",
    "    \n",
    "    for ticker, news_table in news_tables.items():\n",
    "        for x in news_table.findAll('tr'):\n",
    "            # read the text from each tr tag into text\n",
    "            # get text from a only\n",
    "            a_element = x.a\n",
    "\n",
    "            if a_element is not None:\n",
    "                text = a_element.get_text()\n",
    "                date_scrape = x.td.text.split()\n",
    "\n",
    "            # split text in the td tag into a list \n",
    "            date_scrape = x.td.text.split()\n",
    "            # if the length of 'date_scrape' is 1, load 'time' as the only element\n",
    "            if len(date_scrape) == 1:\n",
    "                time = date_scrape[0]\n",
    "            # else load 'date' as the 1st element and 'time' as the second    \n",
    "            else:\n",
    "                date = date_scrape[0]\n",
    "                time = date_scrape[1]\n",
    "        \n",
    "            # Append ticker, date, time, and headline as a list to the 'parsed_news' list\n",
    "            parsed_news.append([ticker, date, time, text])\n",
    "\n",
    "    columns = ['ticker', 'date', 'time', 'headline']\n",
    "    # Convert the parsed_news list into a DataFrame called 'parsed_news_df'\n",
    "    parsed_news_df = pd.DataFrame(parsed_news, columns=columns)        \n",
    "    # Create a pandas datetime object from the strings in the 'date' and 'time' columns\n",
    "    parsed_news_df['datetime'] = pd.to_datetime(parsed_news_df['date'] + ' ' + parsed_news_df['time'])\n",
    "    \n",
    "    return parsed_news_df\n",
    "        \n",
    "parsed_news_df = parse_news(news_tables)\n",
    "parsed_news_df.tail()\n"
   ]
  },
  {
   "cell_type": "code",
   "execution_count": null,
   "id": "ad6948ff",
   "metadata": {},
   "outputs": [],
   "source": []
  }
 ],
 "metadata": {
  "kernelspec": {
   "display_name": "Python 3 (ipykernel)",
   "language": "python",
   "name": "python3"
  },
  "language_info": {
   "codemirror_mode": {
    "name": "ipython",
    "version": 3
   },
   "file_extension": ".py",
   "mimetype": "text/x-python",
   "name": "python",
   "nbconvert_exporter": "python",
   "pygments_lexer": "ipython3",
   "version": "3.9.16"
  }
 },
 "nbformat": 4,
 "nbformat_minor": 5
}
